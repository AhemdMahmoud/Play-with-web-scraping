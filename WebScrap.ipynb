{
  "nbformat": 4,
  "nbformat_minor": 0,
  "metadata": {
    "colab": {
      "provenance": [],
      "authorship_tag": "ABX9TyPGOQq/DYz9FkPIiIWKozWA",
      "include_colab_link": true
    },
    "kernelspec": {
      "name": "python3",
      "display_name": "Python 3"
    },
    "language_info": {
      "name": "python"
    }
  },
  "cells": [
    {
      "cell_type": "markdown",
      "metadata": {
        "id": "view-in-github",
        "colab_type": "text"
      },
      "source": [
        "<a href=\"https://colab.research.google.com/github/AhmedMahmoud1D/Play-with-Web-Scraping/blob/main/WebScrap.ipynb\" target=\"_parent\"><img src=\"https://colab.research.google.com/assets/colab-badge.svg\" alt=\"Open In Colab\"/></a>"
      ]
    },
    {
      "cell_type": "code",
      "source": [
        "import csv\n",
        "import requests\n",
        "from bs4 import BeautifulSoup\n",
        "import re \n",
        "\n",
        "# Define a regular expression pattern to match the date format yyyy-mm-dd\n",
        "date_pattern = re.compile(r\"\\d{2}/\\d{2}/\\d{4}\")\n",
        "\n",
        "# Ask the user to input a date\n",
        "while True:\n",
        "    date = input(\"Please enter a date (dd/mm/yyyy): \")\n",
        "    if date_pattern.match(date):\n",
        "        break\n",
        "    else:\n",
        "        print(\"Invalid date format. Please enter a date in the format dd/mm/yyyy.\")\n",
        "\n",
        "# Define the main function that will scrape the web page and save the data to a CSV file\n",
        "def main():\n",
        "    # Send a GET request to the web page with the specified date\n",
        "    page = requests.get(f\"https://www.yallakora.com/match-center/?date={date}\")\n",
        "    # Get the HTML content of the page\n",
        "    src = page.content\n",
        "    # Parse the HTML content using BeautifulSoup\n",
        "    soup = BeautifulSoup(src, \"lxml\")\n",
        "    # Initialize an empty list to store the details of the matches\n",
        "    matches_details = []\n",
        "    # Find all the divs with the class 'matchCard' that contain the details of the matches\n",
        "    championships = soup.find_all(\"div\", {'class': 'matchCard'})\n",
        "\n",
        "    # Define a function to extract the details of each match and append them to the matches_details list\n",
        "    def get_match_info(championships):\n",
        "        # Get the title of the championship from the first div in the championships list\n",
        "        championship_title = championships.contents[1].find('h2').text.strip()\n",
        "        # Get all the li tags that contain the details of the matches from the third div in the championships list\n",
        "        all_matches = championships.contents[3].find_all('li')\n",
        "        # Get the number of matches in the championship\n",
        "        number_of_matches = len(all_matches) \n",
        "        # Loop through all the matches and extract their details\n",
        "        for i in range(number_of_matches):\n",
        "            # Get the name of the first team\n",
        "            team_a = all_matches[i].find(\"div\", {'class': 'teamA'}).text.strip() \n",
        "            # Get the name of the second team\n",
        "            team_b = all_matches[i].find(\"div\", {'class': 'teamB'}).text.strip() \n",
        "            # Get the score of the match\n",
        "            match_result = all_matches[i].find(\"div\", {'class': 'MResult'}).find_all(\"span\", {'class': 'score'})\n",
        "            Score = f\"{match_result[0].text.strip()} - {match_result[1].text.strip()}\"\n",
        "            # Get the time of the match\n",
        "            match_time = all_matches[i].find(\"div\", {'class': 'MResult'}).find(\"span\", {'class': 'time'}).text.strip()\n",
        "\n",
        "            # Add the details of the match to the matches_details list as a dictionary\n",
        "            matches_details.append({\"نوع البطوله\": championship_title, \"الفريق الاول\": team_a, \"الفريق الثانى\": team_b, \"ميعاد المباره \": match_time, \"النتيجه\": Score})\n",
        "\n",
        "    # Loop through all the championships and extract the details of their matches\n",
        "    for i in range(len(championships)):\n",
        "        get_match_info(championships[i])\n",
        "\n",
        "    # Get the keys of the dictionary from the first item in the matches_details list\n",
        "    keys = matches_details[0].keys()\n",
        "    # Write the details of the matches to a CSV file called 'matchs_D.csv'\n",
        "    \n",
        "    with open('matchs_D.csv', 'w') as output_file:\n",
        "        dict_writer = csv.DictWriter(output_file, keys)\n",
        "        dict_writer.writeheader()\n",
        "        dict_writer.writerows(matches_details)\n",
        "        # Print a message to confirm that the file was created\n",
        "        print(\"File created\")\n",
        "\n",
        "# Call the main function to execute the code\n",
        "main()"
      ],
      "metadata": {
        "colab": {
          "base_uri": "https://localhost:8080/"
        },
        "id": "dUmgLGR4Dyw9",
        "outputId": "4f38fe4b-246a-49e2-8d38-6ae69fbf2f15"
      },
      "execution_count": 3,
      "outputs": [
        {
          "output_type": "stream",
          "name": "stdout",
          "text": [
            "Please enter a date (dd/mm/yyyy): 02/02/2022\n",
            "File created\n"
          ]
        }
      ]
    }
  ]
}